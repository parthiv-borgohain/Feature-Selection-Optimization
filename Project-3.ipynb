{
 "cells": [
  {
   "cell_type": "markdown",
   "metadata": {},
   "source": [
    "# Group Project - 3"
   ]
  },
  {
   "cell_type": "markdown",
   "metadata": {},
   "source": [
    "| Sl.no | Team Member | UT EID |\n",
    "|---\t| ------\t|---\t|\n",
    "| 1 | Chyavan Mysore Chandrashekar \t| CM65624 |\n",
    "| 2 | Mark Moreno                  \t|  |\n",
    "| 3 | Parthiv Borgohain   \t        |  |\n",
    "| 4 | Soumith Reddy Palreddy       \t|  |"
   ]
  },
  {
   "cell_type": "markdown",
   "metadata": {},
   "source": [
    "<hr>"
   ]
  },
  {
   "cell_type": "markdown",
   "metadata": {},
   "source": [
    "### Imports Required"
   ]
  },
  {
   "cell_type": "code",
   "execution_count": 1,
   "metadata": {},
   "outputs": [],
   "source": [
    "from gurobipy import Model, GRB\n",
    "from pandas import read_csv, DataFrame\n",
    "from numpy import array, zeros, linspace, abs as np_abs\n",
    "import matplotlib.pyplot as plt\n",
    "from random import shuffle\n",
    "from os.path import exists\n",
    "from datetime import datetime\n",
    "\n",
    "from sklearn.model_selection import KFold\n",
    "from sklearn.preprocessing import StandardScaler\n",
    "from sklearn.linear_model import Lasso\n",
    "from sklearn.metrics import r2_score\n",
    "\n",
    "from warnings import filterwarnings\n",
    "\n",
    "%matplotlib inline\n",
    "filterwarnings('ignore')"
   ]
  },
  {
   "cell_type": "markdown",
   "metadata": {},
   "source": [
    "### Global Variables"
   ]
  },
  {
   "cell_type": "code",
   "execution_count": 2,
   "metadata": {},
   "outputs": [],
   "source": [
    "# Global Variables\n",
    "time_limit = 3600\n",
    "max_m = 0\n",
    "M = 10      # Tested what the max_m value would be in all the models\n",
    "k_fold = 10"
   ]
  },
  {
   "cell_type": "markdown",
   "metadata": {},
   "source": [
    "### Read and format the Training and Test Data"
   ]
  },
  {
   "cell_type": "code",
   "execution_count": 3,
   "metadata": {},
   "outputs": [],
   "source": [
    "training_df = read_csv(\"training_data.csv\")\n",
    "X_train = training_df[[col for col in training_df.columns if \"X\" in col]]\n",
    "X_train[\"X0\"] = 1\n",
    "X_train = X_train[sorted(X_train.columns, key=lambda x: int(str(x[1:])))]\n",
    "y_train = training_df[[col for col in training_df.columns if \"y\" in col]]"
   ]
  },
  {
   "cell_type": "code",
   "execution_count": 4,
   "metadata": {},
   "outputs": [
    {
     "data": {
      "text/html": [
       "<div>\n",
       "<style scoped>\n",
       "    .dataframe tbody tr th:only-of-type {\n",
       "        vertical-align: middle;\n",
       "    }\n",
       "\n",
       "    .dataframe tbody tr th {\n",
       "        vertical-align: top;\n",
       "    }\n",
       "\n",
       "    .dataframe thead th {\n",
       "        text-align: right;\n",
       "    }\n",
       "</style>\n",
       "<table border=\"1\" class=\"dataframe\">\n",
       "  <thead>\n",
       "    <tr style=\"text-align: right;\">\n",
       "      <th></th>\n",
       "      <th>X0</th>\n",
       "      <th>X1</th>\n",
       "      <th>X2</th>\n",
       "      <th>X3</th>\n",
       "      <th>X4</th>\n",
       "      <th>X5</th>\n",
       "      <th>X6</th>\n",
       "      <th>X7</th>\n",
       "      <th>X8</th>\n",
       "      <th>X9</th>\n",
       "      <th>...</th>\n",
       "      <th>X41</th>\n",
       "      <th>X42</th>\n",
       "      <th>X43</th>\n",
       "      <th>X44</th>\n",
       "      <th>X45</th>\n",
       "      <th>X46</th>\n",
       "      <th>X47</th>\n",
       "      <th>X48</th>\n",
       "      <th>X49</th>\n",
       "      <th>X50</th>\n",
       "    </tr>\n",
       "  </thead>\n",
       "  <tbody>\n",
       "    <tr>\n",
       "      <th>0</th>\n",
       "      <td>1</td>\n",
       "      <td>-1.535413</td>\n",
       "      <td>0.718888</td>\n",
       "      <td>-2.099149</td>\n",
       "      <td>-0.442842</td>\n",
       "      <td>-0.598978</td>\n",
       "      <td>-1.642574</td>\n",
       "      <td>0.207755</td>\n",
       "      <td>0.760642</td>\n",
       "      <td>0.575874</td>\n",
       "      <td>...</td>\n",
       "      <td>0.361866</td>\n",
       "      <td>1.793098</td>\n",
       "      <td>-0.631287</td>\n",
       "      <td>-0.061751</td>\n",
       "      <td>0.511049</td>\n",
       "      <td>0.488754</td>\n",
       "      <td>-0.612772</td>\n",
       "      <td>-0.471045</td>\n",
       "      <td>-1.139781</td>\n",
       "      <td>-0.260773</td>\n",
       "    </tr>\n",
       "    <tr>\n",
       "      <th>1</th>\n",
       "      <td>1</td>\n",
       "      <td>-1.734609</td>\n",
       "      <td>0.551981</td>\n",
       "      <td>-2.147673</td>\n",
       "      <td>-1.552944</td>\n",
       "      <td>1.514910</td>\n",
       "      <td>-1.143972</td>\n",
       "      <td>0.737594</td>\n",
       "      <td>1.321243</td>\n",
       "      <td>-0.261684</td>\n",
       "      <td>...</td>\n",
       "      <td>-0.677985</td>\n",
       "      <td>-0.165679</td>\n",
       "      <td>0.065405</td>\n",
       "      <td>0.137162</td>\n",
       "      <td>1.258197</td>\n",
       "      <td>-0.120834</td>\n",
       "      <td>-1.564834</td>\n",
       "      <td>-0.242565</td>\n",
       "      <td>-0.001827</td>\n",
       "      <td>1.187453</td>\n",
       "    </tr>\n",
       "    <tr>\n",
       "      <th>2</th>\n",
       "      <td>1</td>\n",
       "      <td>0.097257</td>\n",
       "      <td>0.107634</td>\n",
       "      <td>-0.194222</td>\n",
       "      <td>0.335454</td>\n",
       "      <td>-0.408199</td>\n",
       "      <td>0.133265</td>\n",
       "      <td>0.706179</td>\n",
       "      <td>0.394971</td>\n",
       "      <td>-0.437116</td>\n",
       "      <td>...</td>\n",
       "      <td>1.108801</td>\n",
       "      <td>0.333791</td>\n",
       "      <td>0.282055</td>\n",
       "      <td>-1.086294</td>\n",
       "      <td>-0.115354</td>\n",
       "      <td>0.257857</td>\n",
       "      <td>-0.088838</td>\n",
       "      <td>-0.751231</td>\n",
       "      <td>1.450609</td>\n",
       "      <td>0.290593</td>\n",
       "    </tr>\n",
       "    <tr>\n",
       "      <th>3</th>\n",
       "      <td>1</td>\n",
       "      <td>-0.067702</td>\n",
       "      <td>0.557836</td>\n",
       "      <td>0.700848</td>\n",
       "      <td>-1.121376</td>\n",
       "      <td>1.722274</td>\n",
       "      <td>0.613525</td>\n",
       "      <td>0.700909</td>\n",
       "      <td>-0.417976</td>\n",
       "      <td>1.069749</td>\n",
       "      <td>...</td>\n",
       "      <td>0.692511</td>\n",
       "      <td>-0.350990</td>\n",
       "      <td>0.624558</td>\n",
       "      <td>0.434520</td>\n",
       "      <td>-0.367409</td>\n",
       "      <td>-1.144681</td>\n",
       "      <td>-0.136524</td>\n",
       "      <td>-0.557214</td>\n",
       "      <td>0.416303</td>\n",
       "      <td>0.484495</td>\n",
       "    </tr>\n",
       "    <tr>\n",
       "      <th>4</th>\n",
       "      <td>1</td>\n",
       "      <td>0.488729</td>\n",
       "      <td>0.211483</td>\n",
       "      <td>0.568389</td>\n",
       "      <td>0.646837</td>\n",
       "      <td>0.163868</td>\n",
       "      <td>-0.002152</td>\n",
       "      <td>0.125137</td>\n",
       "      <td>0.493571</td>\n",
       "      <td>1.705451</td>\n",
       "      <td>...</td>\n",
       "      <td>-0.000605</td>\n",
       "      <td>1.075280</td>\n",
       "      <td>0.182281</td>\n",
       "      <td>-1.138458</td>\n",
       "      <td>0.106092</td>\n",
       "      <td>0.544640</td>\n",
       "      <td>-0.383487</td>\n",
       "      <td>-0.425773</td>\n",
       "      <td>2.667647</td>\n",
       "      <td>-0.050748</td>\n",
       "    </tr>\n",
       "  </tbody>\n",
       "</table>\n",
       "<p>5 rows × 51 columns</p>\n",
       "</div>"
      ],
      "text/plain": [
       "   X0        X1        X2        X3        X4        X5        X6        X7  \\\n",
       "0   1 -1.535413  0.718888 -2.099149 -0.442842 -0.598978 -1.642574  0.207755   \n",
       "1   1 -1.734609  0.551981 -2.147673 -1.552944  1.514910 -1.143972  0.737594   \n",
       "2   1  0.097257  0.107634 -0.194222  0.335454 -0.408199  0.133265  0.706179   \n",
       "3   1 -0.067702  0.557836  0.700848 -1.121376  1.722274  0.613525  0.700909   \n",
       "4   1  0.488729  0.211483  0.568389  0.646837  0.163868 -0.002152  0.125137   \n",
       "\n",
       "         X8        X9  ...       X41       X42       X43       X44       X45  \\\n",
       "0  0.760642  0.575874  ...  0.361866  1.793098 -0.631287 -0.061751  0.511049   \n",
       "1  1.321243 -0.261684  ... -0.677985 -0.165679  0.065405  0.137162  1.258197   \n",
       "2  0.394971 -0.437116  ...  1.108801  0.333791  0.282055 -1.086294 -0.115354   \n",
       "3 -0.417976  1.069749  ...  0.692511 -0.350990  0.624558  0.434520 -0.367409   \n",
       "4  0.493571  1.705451  ... -0.000605  1.075280  0.182281 -1.138458  0.106092   \n",
       "\n",
       "        X46       X47       X48       X49       X50  \n",
       "0  0.488754 -0.612772 -0.471045 -1.139781 -0.260773  \n",
       "1 -0.120834 -1.564834 -0.242565 -0.001827  1.187453  \n",
       "2  0.257857 -0.088838 -0.751231  1.450609  0.290593  \n",
       "3 -1.144681 -0.136524 -0.557214  0.416303  0.484495  \n",
       "4  0.544640 -0.383487 -0.425773  2.667647 -0.050748  \n",
       "\n",
       "[5 rows x 51 columns]"
      ]
     },
     "execution_count": 4,
     "metadata": {},
     "output_type": "execute_result"
    }
   ],
   "source": [
    "X_train.head()"
   ]
  },
  {
   "cell_type": "code",
   "execution_count": 5,
   "metadata": {},
   "outputs": [
    {
     "data": {
      "text/html": [
       "<div>\n",
       "<style scoped>\n",
       "    .dataframe tbody tr th:only-of-type {\n",
       "        vertical-align: middle;\n",
       "    }\n",
       "\n",
       "    .dataframe tbody tr th {\n",
       "        vertical-align: top;\n",
       "    }\n",
       "\n",
       "    .dataframe thead th {\n",
       "        text-align: right;\n",
       "    }\n",
       "</style>\n",
       "<table border=\"1\" class=\"dataframe\">\n",
       "  <thead>\n",
       "    <tr style=\"text-align: right;\">\n",
       "      <th></th>\n",
       "      <th>y</th>\n",
       "    </tr>\n",
       "  </thead>\n",
       "  <tbody>\n",
       "    <tr>\n",
       "      <th>0</th>\n",
       "      <td>8.536145</td>\n",
       "    </tr>\n",
       "    <tr>\n",
       "      <th>1</th>\n",
       "      <td>4.808344</td>\n",
       "    </tr>\n",
       "    <tr>\n",
       "      <th>2</th>\n",
       "      <td>-1.530427</td>\n",
       "    </tr>\n",
       "    <tr>\n",
       "      <th>3</th>\n",
       "      <td>-0.428243</td>\n",
       "    </tr>\n",
       "    <tr>\n",
       "      <th>4</th>\n",
       "      <td>0.566694</td>\n",
       "    </tr>\n",
       "  </tbody>\n",
       "</table>\n",
       "</div>"
      ],
      "text/plain": [
       "          y\n",
       "0  8.536145\n",
       "1  4.808344\n",
       "2 -1.530427\n",
       "3 -0.428243\n",
       "4  0.566694"
      ]
     },
     "execution_count": 5,
     "metadata": {},
     "output_type": "execute_result"
    }
   ],
   "source": [
    "y_train.head()"
   ]
  },
  {
   "cell_type": "markdown",
   "metadata": {},
   "source": [
    "<hr>"
   ]
  },
  {
   "cell_type": "code",
   "execution_count": 6,
   "metadata": {},
   "outputs": [],
   "source": [
    "test_df = read_csv(\"test_data.csv\")\n",
    "X_test = test_df[[col for col in test_df.columns if \"X\" in col]]\n",
    "X_test[\"X0\"] = 1\n",
    "X_test = X_test[sorted(X_test.columns, key=lambda x: int(str(x[1:])))]\n",
    "y_test = test_df[[col for col in test_df.columns if \"y\" in col]]"
   ]
  },
  {
   "cell_type": "code",
   "execution_count": 7,
   "metadata": {},
   "outputs": [
    {
     "data": {
      "text/html": [
       "<div>\n",
       "<style scoped>\n",
       "    .dataframe tbody tr th:only-of-type {\n",
       "        vertical-align: middle;\n",
       "    }\n",
       "\n",
       "    .dataframe tbody tr th {\n",
       "        vertical-align: top;\n",
       "    }\n",
       "\n",
       "    .dataframe thead th {\n",
       "        text-align: right;\n",
       "    }\n",
       "</style>\n",
       "<table border=\"1\" class=\"dataframe\">\n",
       "  <thead>\n",
       "    <tr style=\"text-align: right;\">\n",
       "      <th></th>\n",
       "      <th>X0</th>\n",
       "      <th>X1</th>\n",
       "      <th>X2</th>\n",
       "      <th>X3</th>\n",
       "      <th>X4</th>\n",
       "      <th>X5</th>\n",
       "      <th>X6</th>\n",
       "      <th>X7</th>\n",
       "      <th>X8</th>\n",
       "      <th>X9</th>\n",
       "      <th>...</th>\n",
       "      <th>X41</th>\n",
       "      <th>X42</th>\n",
       "      <th>X43</th>\n",
       "      <th>X44</th>\n",
       "      <th>X45</th>\n",
       "      <th>X46</th>\n",
       "      <th>X47</th>\n",
       "      <th>X48</th>\n",
       "      <th>X49</th>\n",
       "      <th>X50</th>\n",
       "    </tr>\n",
       "  </thead>\n",
       "  <tbody>\n",
       "    <tr>\n",
       "      <th>0</th>\n",
       "      <td>1</td>\n",
       "      <td>-2.047008</td>\n",
       "      <td>0.260132</td>\n",
       "      <td>-0.785152</td>\n",
       "      <td>0.384576</td>\n",
       "      <td>-0.137613</td>\n",
       "      <td>-0.364566</td>\n",
       "      <td>-1.941253</td>\n",
       "      <td>-0.108180</td>\n",
       "      <td>-0.339223</td>\n",
       "      <td>...</td>\n",
       "      <td>-0.522194</td>\n",
       "      <td>1.861897</td>\n",
       "      <td>0.124511</td>\n",
       "      <td>1.144071</td>\n",
       "      <td>0.128179</td>\n",
       "      <td>-0.467972</td>\n",
       "      <td>-1.085601</td>\n",
       "      <td>0.659670</td>\n",
       "      <td>0.514719</td>\n",
       "      <td>0.806656</td>\n",
       "    </tr>\n",
       "    <tr>\n",
       "      <th>1</th>\n",
       "      <td>1</td>\n",
       "      <td>-1.354328</td>\n",
       "      <td>-1.289884</td>\n",
       "      <td>1.321533</td>\n",
       "      <td>-0.091165</td>\n",
       "      <td>-1.021874</td>\n",
       "      <td>0.686778</td>\n",
       "      <td>0.089737</td>\n",
       "      <td>-0.398371</td>\n",
       "      <td>-0.261740</td>\n",
       "      <td>...</td>\n",
       "      <td>-0.502578</td>\n",
       "      <td>0.584476</td>\n",
       "      <td>0.680703</td>\n",
       "      <td>0.046788</td>\n",
       "      <td>0.569681</td>\n",
       "      <td>-1.099062</td>\n",
       "      <td>-0.069656</td>\n",
       "      <td>0.709273</td>\n",
       "      <td>-0.848665</td>\n",
       "      <td>0.996168</td>\n",
       "    </tr>\n",
       "    <tr>\n",
       "      <th>2</th>\n",
       "      <td>1</td>\n",
       "      <td>0.502205</td>\n",
       "      <td>1.062887</td>\n",
       "      <td>1.460733</td>\n",
       "      <td>-1.506403</td>\n",
       "      <td>0.721664</td>\n",
       "      <td>0.528921</td>\n",
       "      <td>-0.699541</td>\n",
       "      <td>-0.270331</td>\n",
       "      <td>-2.544812</td>\n",
       "      <td>...</td>\n",
       "      <td>-0.125195</td>\n",
       "      <td>-1.292924</td>\n",
       "      <td>0.411785</td>\n",
       "      <td>-0.164210</td>\n",
       "      <td>-2.407403</td>\n",
       "      <td>-1.132500</td>\n",
       "      <td>0.452923</td>\n",
       "      <td>-0.945541</td>\n",
       "      <td>0.126523</td>\n",
       "      <td>-0.972075</td>\n",
       "    </tr>\n",
       "    <tr>\n",
       "      <th>3</th>\n",
       "      <td>1</td>\n",
       "      <td>0.222381</td>\n",
       "      <td>-0.960747</td>\n",
       "      <td>-0.113762</td>\n",
       "      <td>1.935927</td>\n",
       "      <td>0.969387</td>\n",
       "      <td>-1.641403</td>\n",
       "      <td>0.026647</td>\n",
       "      <td>0.747138</td>\n",
       "      <td>-1.571784</td>\n",
       "      <td>...</td>\n",
       "      <td>-0.546915</td>\n",
       "      <td>-0.192517</td>\n",
       "      <td>0.603420</td>\n",
       "      <td>-0.277331</td>\n",
       "      <td>-1.451419</td>\n",
       "      <td>0.220775</td>\n",
       "      <td>0.474954</td>\n",
       "      <td>-0.160109</td>\n",
       "      <td>0.188047</td>\n",
       "      <td>-1.711229</td>\n",
       "    </tr>\n",
       "    <tr>\n",
       "      <th>4</th>\n",
       "      <td>1</td>\n",
       "      <td>1.209949</td>\n",
       "      <td>1.586874</td>\n",
       "      <td>-0.694784</td>\n",
       "      <td>-0.226370</td>\n",
       "      <td>-0.152108</td>\n",
       "      <td>0.772356</td>\n",
       "      <td>-0.573741</td>\n",
       "      <td>-0.992492</td>\n",
       "      <td>-0.646661</td>\n",
       "      <td>...</td>\n",
       "      <td>-0.982236</td>\n",
       "      <td>-1.407777</td>\n",
       "      <td>0.094211</td>\n",
       "      <td>0.159960</td>\n",
       "      <td>-0.901612</td>\n",
       "      <td>-1.653122</td>\n",
       "      <td>0.393518</td>\n",
       "      <td>0.702539</td>\n",
       "      <td>0.552663</td>\n",
       "      <td>-0.773646</td>\n",
       "    </tr>\n",
       "  </tbody>\n",
       "</table>\n",
       "<p>5 rows × 51 columns</p>\n",
       "</div>"
      ],
      "text/plain": [
       "   X0        X1        X2        X3        X4        X5        X6        X7  \\\n",
       "0   1 -2.047008  0.260132 -0.785152  0.384576 -0.137613 -0.364566 -1.941253   \n",
       "1   1 -1.354328 -1.289884  1.321533 -0.091165 -1.021874  0.686778  0.089737   \n",
       "2   1  0.502205  1.062887  1.460733 -1.506403  0.721664  0.528921 -0.699541   \n",
       "3   1  0.222381 -0.960747 -0.113762  1.935927  0.969387 -1.641403  0.026647   \n",
       "4   1  1.209949  1.586874 -0.694784 -0.226370 -0.152108  0.772356 -0.573741   \n",
       "\n",
       "         X8        X9  ...       X41       X42       X43       X44       X45  \\\n",
       "0 -0.108180 -0.339223  ... -0.522194  1.861897  0.124511  1.144071  0.128179   \n",
       "1 -0.398371 -0.261740  ... -0.502578  0.584476  0.680703  0.046788  0.569681   \n",
       "2 -0.270331 -2.544812  ... -0.125195 -1.292924  0.411785 -0.164210 -2.407403   \n",
       "3  0.747138 -1.571784  ... -0.546915 -0.192517  0.603420 -0.277331 -1.451419   \n",
       "4 -0.992492 -0.646661  ... -0.982236 -1.407777  0.094211  0.159960 -0.901612   \n",
       "\n",
       "        X46       X47       X48       X49       X50  \n",
       "0 -0.467972 -1.085601  0.659670  0.514719  0.806656  \n",
       "1 -1.099062 -0.069656  0.709273 -0.848665  0.996168  \n",
       "2 -1.132500  0.452923 -0.945541  0.126523 -0.972075  \n",
       "3  0.220775  0.474954 -0.160109  0.188047 -1.711229  \n",
       "4 -1.653122  0.393518  0.702539  0.552663 -0.773646  \n",
       "\n",
       "[5 rows x 51 columns]"
      ]
     },
     "execution_count": 7,
     "metadata": {},
     "output_type": "execute_result"
    }
   ],
   "source": [
    "X_test.head()"
   ]
  },
  {
   "cell_type": "code",
   "execution_count": 8,
   "metadata": {},
   "outputs": [
    {
     "data": {
      "text/html": [
       "<div>\n",
       "<style scoped>\n",
       "    .dataframe tbody tr th:only-of-type {\n",
       "        vertical-align: middle;\n",
       "    }\n",
       "\n",
       "    .dataframe tbody tr th {\n",
       "        vertical-align: top;\n",
       "    }\n",
       "\n",
       "    .dataframe thead th {\n",
       "        text-align: right;\n",
       "    }\n",
       "</style>\n",
       "<table border=\"1\" class=\"dataframe\">\n",
       "  <thead>\n",
       "    <tr style=\"text-align: right;\">\n",
       "      <th></th>\n",
       "      <th>y</th>\n",
       "    </tr>\n",
       "  </thead>\n",
       "  <tbody>\n",
       "    <tr>\n",
       "      <th>0</th>\n",
       "      <td>7.107949</td>\n",
       "    </tr>\n",
       "    <tr>\n",
       "      <th>1</th>\n",
       "      <td>5.796272</td>\n",
       "    </tr>\n",
       "    <tr>\n",
       "      <th>2</th>\n",
       "      <td>1.598651</td>\n",
       "    </tr>\n",
       "    <tr>\n",
       "      <th>3</th>\n",
       "      <td>2.532953</td>\n",
       "    </tr>\n",
       "    <tr>\n",
       "      <th>4</th>\n",
       "      <td>0.590685</td>\n",
       "    </tr>\n",
       "  </tbody>\n",
       "</table>\n",
       "</div>"
      ],
      "text/plain": [
       "          y\n",
       "0  7.107949\n",
       "1  5.796272\n",
       "2  1.598651\n",
       "3  2.532953\n",
       "4  0.590685"
      ]
     },
     "execution_count": 8,
     "metadata": {},
     "output_type": "execute_result"
    }
   ],
   "source": [
    "y_test.head()"
   ]
  },
  {
   "cell_type": "markdown",
   "metadata": {},
   "source": [
    "### Direct Variable Selection – MIQP Solution"
   ]
  },
  {
   "cell_type": "markdown",
   "metadata": {},
   "source": [
    "#### Build an MIQP Class"
   ]
  },
  {
   "cell_type": "markdown",
   "metadata": {},
   "source": [
    "A class which solves and holds the solution details (of objective value and betas) in the class object"
   ]
  },
  {
   "cell_type": "code",
   "execution_count": 9,
   "metadata": {},
   "outputs": [],
   "source": [
    "class MIQP:\n",
    "    def __init__(self, k_var):\n",
    "        self.A = None\n",
    "        self.b = None\n",
    "        self.sense = None\n",
    "        self.Q = None\n",
    "        self.C = None\n",
    "        self.k = k_var\n",
    "\n",
    "        self.model = None\n",
    "        self.model_x = None\n",
    "        self.model_con = None\n",
    "\n",
    "    def fit(self, X, y):\n",
    "        global max_m\n",
    "        global time_limit\n",
    "        \n",
    "        X = array(X)\n",
    "        y = array(y)\n",
    "        self.m = X.shape[1]\n",
    "        _2m_1 = 2*self.m-1\n",
    "        \n",
    "        Q = zeros((_2m_1, _2m_1))\n",
    "        Q[:self.m,:self.m] = X.transpose() @ X\n",
    "        \n",
    "        C = zeros(_2m_1)\n",
    "        C[:self.m] = -2 * (y.transpose() @ X)\n",
    "\n",
    "        # constraints\n",
    "        vtype = array([\"C\"]*self.m + [\"B\"]*(self.m-1))\n",
    "        lb = array([-M]*self.m + [0]*(self.m-1))\n",
    "        A = zeros((_2m_1, _2m_1))\n",
    "        b = zeros(_2m_1)\n",
    "        sense = array(['<']*(_2m_1))\n",
    "\n",
    "        for i in range(1,self.m):\n",
    "            A[i-1, [i,i+self.m-1]] = [-1,-M]\n",
    "            A[self.m-1+i-1, [i,i+self.m-1]] = [1, -M]\n",
    "        \n",
    "        A[-1, self.m:] = 1\n",
    "        b[-1] = self.k\n",
    "        model = Model()\n",
    "        model_x = model.addMVar(_2m_1,vtype=vtype, lb=lb)\n",
    "        model_con = model.addMConstr(A, model_x, sense, b)\n",
    "        model.setMObjective(Q, C, 0, sense=GRB.MINIMIZE)\n",
    "        model.Params.OutputFlag = 0\n",
    "        model.Params.TimeLimit = time_limit\n",
    "        model.optimize()\n",
    "        \n",
    "        # max_m = max([max(np_abs(model_x.x)), max_m])\n",
    "        self.model = model\n",
    "        self.model_x = model_x\n",
    "        self.model_con = model_con\n",
    "        self.A = A\n",
    "        self.b = b\n",
    "        self.sense = sense\n",
    "        self.Q = Q\n",
    "        self.C = C\n",
    "\n",
    "    def predict(self, X):\n",
    "        return X @ self.model_x.x[:self.m]"
   ]
  },
  {
   "cell_type": "markdown",
   "metadata": {},
   "source": [
    "#### Read previously optimized results or optimize"
   ]
  },
  {
   "cell_type": "code",
   "execution_count": 10,
   "metadata": {},
   "outputs": [
    {
     "name": "stdout",
     "output_type": "stream",
     "text": [
      "Set parameter Username\n",
      "Academic license - for non-commercial use only - expires 2023-10-29\n"
     ]
    },
    {
     "data": {
      "text/html": [
       "<div>\n",
       "<style scoped>\n",
       "    .dataframe tbody tr th:only-of-type {\n",
       "        vertical-align: middle;\n",
       "    }\n",
       "\n",
       "    .dataframe tbody tr th {\n",
       "        vertical-align: top;\n",
       "    }\n",
       "\n",
       "    .dataframe thead th {\n",
       "        text-align: right;\n",
       "    }\n",
       "</style>\n",
       "<table border=\"1\" class=\"dataframe\">\n",
       "  <thead>\n",
       "    <tr style=\"text-align: right;\">\n",
       "      <th></th>\n",
       "      <th>N_Var</th>\n",
       "      <th>Sum of SSEs</th>\n",
       "    </tr>\n",
       "  </thead>\n",
       "  <tbody>\n",
       "    <tr>\n",
       "      <th>1</th>\n",
       "      <td>10.0</td>\n",
       "      <td>718.118409</td>\n",
       "    </tr>\n",
       "    <tr>\n",
       "      <th>2</th>\n",
       "      <td>15.0</td>\n",
       "      <td>765.662561</td>\n",
       "    </tr>\n",
       "    <tr>\n",
       "      <th>3</th>\n",
       "      <td>20.0</td>\n",
       "      <td>802.496775</td>\n",
       "    </tr>\n",
       "    <tr>\n",
       "      <th>9</th>\n",
       "      <td>50.0</td>\n",
       "      <td>822.632080</td>\n",
       "    </tr>\n",
       "    <tr>\n",
       "      <th>4</th>\n",
       "      <td>25.0</td>\n",
       "      <td>826.685392</td>\n",
       "    </tr>\n",
       "  </tbody>\n",
       "</table>\n",
       "</div>"
      ],
      "text/plain": [
       "   N_Var  Sum of SSEs\n",
       "1   10.0   718.118409\n",
       "2   15.0   765.662561\n",
       "3   20.0   802.496775\n",
       "9   50.0   822.632080\n",
       "4   25.0   826.685392"
      ]
     },
     "execution_count": 10,
     "metadata": {},
     "output_type": "execute_result"
    }
   ],
   "source": [
    "savpath_1 = \"MIQP_cv_results.csv\"\n",
    "time_elapsed = None\n",
    "\n",
    "if exists(savpath_1):\n",
    "    cv_results = read_csv(savpath_1)\n",
    "else:\n",
    "    start_time = datetime.now() \n",
    "    cv_results = DataFrame([], columns=[\"N_Var\", \"Sum of SSEs\"])\n",
    "    for var_num in range(5, 51, 5):\n",
    "        idx = list(range(len(X_train)))\n",
    "        shuffle(idx)\n",
    "        cut_length = len(idx)//k_fold\n",
    "        kf_error = 0\n",
    "        for i in range(k_fold):\n",
    "            val_idx = idx[i*cut_length:(i+1)*cut_length]\n",
    "            X_tr, X_val = X_train.loc[~X_train.index.isin(val_idx)], X_train.loc[X_train.index.isin(val_idx)]\n",
    "            y_tr, y_val = y_train.loc[~y_train.index.isin(val_idx)], y_train.loc[y_train.index.isin(val_idx)]\n",
    "            model = MIQP(k_var=var_num)\n",
    "            model.fit(X_tr, y_tr[\"y\"])\n",
    "            sse = (y_val[\"y\"] - model.predict(X_val)).map(lambda x: x**2).sum()\n",
    "            kf_error += sse\n",
    "        cv_results.loc[len(cv_results)] = [int(var_num), kf_error]\n",
    "    cv_results.to_csv(savpath_1, index=False)\n",
    "    # print(max_m)\n",
    "    time_elapsed = datetime.now() - start_time\n",
    "cv_results.sort_values([\"Sum of SSEs\",\"N_Var\"]).head()"
   ]
  },
  {
   "cell_type": "markdown",
   "metadata": {},
   "source": [
    "#### Plots and Inferences"
   ]
  },
  {
   "cell_type": "markdown",
   "metadata": {},
   "source": [
    "1. Time required for the optimization considering k in intervals of 5"
   ]
  },
  {
   "cell_type": "code",
   "execution_count": 11,
   "metadata": {},
   "outputs": [
    {
     "name": "stdout",
     "output_type": "stream",
     "text": [
      "Time elapsed (hh:mm:ss.ms) 0:31:59.830120\n"
     ]
    }
   ],
   "source": [
    "if type(time_elapsed) != type(None):\n",
    "    print('Time elapsed (hh:mm:ss.ms) {}'.format(time_elapsed))"
   ]
  },
  {
   "cell_type": "markdown",
   "metadata": {},
   "source": [
    "2. How the Sum of Squared Errors (summed over all 10-folds) vary with respect to the number of variables we use in the model"
   ]
  },
  {
   "cell_type": "code",
   "execution_count": 12,
   "metadata": {},
   "outputs": [
    {
     "data": {
      "image/png": "[encoded data removed]",
      "text/plain": [
       "<Figure size 432x288 with 1 Axes>"
      ]
     },
     "metadata": {
      "needs_background": "light"
     },
     "output_type": "display_data"
    }
   ],
   "source": [
    "cv_results.plot(kind='line', x='N_Var', y='Sum of SSEs', marker=\"o\", color=\"#16C172\")\n",
    "plt.ylabel(\"Sum of SSE from 10-fold CV\")\n",
    "plt.xlabel(\"Number of variables\")\n",
    "plt.legend('',frameon=False)\n",
    "plt.xlim([0, 50])\n",
    "plt.title(\"Variation of SSE over different K-values\")\n",
    "plt.savefig(\"cv_results.png\", bbox_inches='tight')\n",
    "plt.show()"
   ]
  },
  {
   "cell_type": "markdown",
   "metadata": {},
   "source": [
    "3. Best k-value for the variable selection, and a model that fits the whole training data with the best k variables"
   ]
  },
  {
   "cell_type": "code",
   "execution_count": 13,
   "metadata": {},
   "outputs": [
    {
     "data": {
      "text/plain": [
       "10"
      ]
     },
     "execution_count": 13,
     "metadata": {},
     "output_type": "execute_result"
    }
   ],
   "source": [
    "k = int(cv_results.sort_values([\"Sum of SSEs\",\"N_Var\"]).iloc[0][\"N_Var\"])\n",
    "k"
   ]
  },
  {
   "cell_type": "code",
   "execution_count": 14,
   "metadata": {},
   "outputs": [],
   "source": [
    "model = MIQP(k_var=k)\n",
    "model.fit(X_train, y_train[\"y\"])"
   ]
  },
  {
   "cell_type": "code",
   "execution_count": 15,
   "metadata": {},
   "outputs": [],
   "source": [
    "comparison_df = DataFrame([], columns=[\"MIQP\", \"Lasso\"])\n",
    "comparison_df[\"MIQP\"] = model.model_x.x[:51]"
   ]
  },
  {
   "cell_type": "markdown",
   "metadata": {},
   "source": [
    "4. R<sup>2</sup> and Adjusted-R<sup>2</sup> for the best fit model"
   ]
  },
  {
   "cell_type": "code",
   "execution_count": 16,
   "metadata": {},
   "outputs": [
    {
     "name": "stdout",
     "output_type": "stream",
     "text": [
      "For the most optimal model from MIQP for variable selection\n",
      "R_squared: 0.87834\n",
      "Ajusted R_squared: 0.87325\n"
     ]
    }
   ],
   "source": [
    "y_train[\"y_pred_MIQP\"] = model.predict(X_train)\n",
    "y_train[\"residuals_MIQP\"] = y_train[\"y\"] - y_train[\"y_pred_MIQP\"]\n",
    "\n",
    "TSS = (y_train[\"y\"] - y_train[\"y\"].mean()).map(lambda x: x**2).sum()\n",
    "RSS = y_train[\"residuals_MIQP\"].map(lambda x: x**2).sum()\n",
    "n = len(y_train)\n",
    "r_square = 1 - (RSS/TSS)\n",
    "adj_r_square = 1 - ((RSS*(n-1))/(TSS*(n-k-1)))\n",
    "\n",
    "print(\"For the most optimal model from MIQP for variable selection\")\n",
    "print(f\"R_squared: {r_square.round(5)}\")\n",
    "print(f\"Ajusted R_squared: {adj_r_square.round(5)}\")"
   ]
  },
  {
   "cell_type": "markdown",
   "metadata": {},
   "source": [
    "5. Scatter plots to see how well the training data fits the response"
   ]
  },
  {
   "cell_type": "code",
   "execution_count": 17,
   "metadata": {},
   "outputs": [
    {
     "data": {
      "image/png": "[encoded data removed]",
      "text/plain": [
       "<Figure size 1080x360 with 2 Axes>"
      ]
     },
     "metadata": {
      "needs_background": "light"
     },
     "output_type": "display_data"
    }
   ],
   "source": [
    "fig, axes = plt.subplots(nrows=1, ncols=2, figsize=(15,5))\n",
    "\n",
    "y_train.plot(kind=\"scatter\", x=\"y\", y=\"y_pred_MIQP\", ax=axes[0], color=\"#16C172\")\n",
    "y_train.plot(kind=\"scatter\", x=\"y\", y=\"residuals_MIQP\", ax=axes[1], color=\"#16C172\")\n",
    "plt.suptitle(\"MIQP - Train: Predicted values and residuals as compared to the true 'y' values\")\n",
    "plt.savefig(\"MIQP_scatter_training.png\", bbox_inches='tight')\n",
    "plt.show()"
   ]
  },
  {
   "cell_type": "markdown",
   "metadata": {},
   "source": [
    "6. Scatter plots to see how well the test data fits the response"
   ]
  },
  {
   "cell_type": "code",
   "execution_count": 18,
   "metadata": {},
   "outputs": [
    {
     "data": {
      "image/png": "[encoded data removed]",
      "text/plain": [
       "<Figure size 1080x360 with 2 Axes>"
      ]
     },
     "metadata": {
      "needs_background": "light"
     },
     "output_type": "display_data"
    }
   ],
   "source": [
    "fig, axes = plt.subplots(nrows=1, ncols=2, figsize=(15,5))\n",
    "\n",
    "y_test[\"y_pred_MIQP\"] = model.predict(X_test)\n",
    "y_test[\"residuals_MIQP\"] = y_test[\"y\"] - y_test[\"y_pred_MIQP\"]\n",
    "y_test.plot(kind=\"scatter\", x=\"y\", y=\"y_pred_MIQP\", ax=axes[0], color=\"#16C172\")\n",
    "y_test.plot(kind=\"scatter\", x=\"y\", y=\"residuals_MIQP\", ax=axes[1], color=\"#16C172\")\n",
    "plt.suptitle(\"MIQP - Test: Predicted values and residuals as compared to the true 'y' values\")\n",
    "plt.savefig(\"MIQP_scatter_test.png\", bbox_inches='tight')\n",
    "plt.show()"
   ]
  },
  {
   "cell_type": "markdown",
   "metadata": {},
   "source": [
    "7. Test MSE of the model"
   ]
  },
  {
   "cell_type": "code",
   "execution_count": 19,
   "metadata": {},
   "outputs": [
    {
     "name": "stdout",
     "output_type": "stream",
     "text": [
      "Test MSE for the best MIQP Model:  116.83\n"
     ]
    }
   ],
   "source": [
    "print(\"Test MSE for the best MIQP Model: \", (y_test[\"residuals_MIQP\"]*y_test[\"residuals_MIQP\"]).sum().round(2))"
   ]
  },
  {
   "cell_type": "markdown",
   "metadata": {},
   "source": [
    "### Indirect Variable Selection – Lasso Regression"
   ]
  },
  {
   "cell_type": "markdown",
   "metadata": {},
   "source": [
    "#### Read previously optimized results or optimize"
   ]
  },
  {
   "cell_type": "code",
   "execution_count": 20,
   "metadata": {},
   "outputs": [
    {
     "data": {
      "text/html": [
       "<div>\n",
       "<style scoped>\n",
       "    .dataframe tbody tr th:only-of-type {\n",
       "        vertical-align: middle;\n",
       "    }\n",
       "\n",
       "    .dataframe tbody tr th {\n",
       "        vertical-align: top;\n",
       "    }\n",
       "\n",
       "    .dataframe thead th {\n",
       "        text-align: right;\n",
       "    }\n",
       "</style>\n",
       "<table border=\"1\" class=\"dataframe\">\n",
       "  <thead>\n",
       "    <tr style=\"text-align: right;\">\n",
       "      <th></th>\n",
       "      <th>Lambda</th>\n",
       "      <th>Sum of SSEs</th>\n",
       "    </tr>\n",
       "  </thead>\n",
       "  <tbody>\n",
       "    <tr>\n",
       "      <th>27</th>\n",
       "      <td>0.005337</td>\n",
       "      <td>727.832489</td>\n",
       "    </tr>\n",
       "    <tr>\n",
       "      <th>26</th>\n",
       "      <td>0.004229</td>\n",
       "      <td>730.341487</td>\n",
       "    </tr>\n",
       "    <tr>\n",
       "      <th>28</th>\n",
       "      <td>0.006734</td>\n",
       "      <td>733.278879</td>\n",
       "    </tr>\n",
       "    <tr>\n",
       "      <th>25</th>\n",
       "      <td>0.003352</td>\n",
       "      <td>736.079828</td>\n",
       "    </tr>\n",
       "    <tr>\n",
       "      <th>24</th>\n",
       "      <td>0.002656</td>\n",
       "      <td>745.728847</td>\n",
       "    </tr>\n",
       "  </tbody>\n",
       "</table>\n",
       "</div>"
      ],
      "text/plain": [
       "      Lambda  Sum of SSEs\n",
       "27  0.005337   727.832489\n",
       "26  0.004229   730.341487\n",
       "28  0.006734   733.278879\n",
       "25  0.003352   736.079828\n",
       "24  0.002656   745.728847"
      ]
     },
     "execution_count": 20,
     "metadata": {},
     "output_type": "execute_result"
    }
   ],
   "source": [
    "savpath_2 = \"Lasso_cv_results.csv\"\n",
    "time_elapsed = None\n",
    "\n",
    "if exists(savpath_2):\n",
    "    cv_results_lasso = read_csv(savpath_2)\n",
    "else:\n",
    "    start_time = datetime.now()\n",
    "    cv_results_lasso = DataFrame([], columns=[\"Lambda\", \"Sum of SSEs\"])\n",
    "    lambdas = 10**linspace(-5,5,100)\n",
    "    kf = KFold(n_splits=k_fold, random_state=15, shuffle=True)\n",
    "    for lda in lambdas:\n",
    "        kf_error = 0\n",
    "        for tr_idx, val_idx in kf.split(X_train):\n",
    "            X_tr, X_val = X_train.iloc[tr_idx, 1:], X_train.iloc[val_idx, 1:]\n",
    "            y_tr, y_val = y_train.iloc[tr_idx], y_train.iloc[val_idx]\n",
    "\n",
    "            scaler = StandardScaler()\n",
    "            scaler.fit(X_tr)\n",
    "            Scaled_Xtr = scaler.transform(X_tr)\n",
    "            Scaled_Xval = scaler.transform(X_val)\n",
    "            \n",
    "            model = Lasso(alpha=lda, normalize=True)\n",
    "            model.fit(Scaled_Xtr, y_tr[\"y\"])\n",
    "            sse = (y_val[\"y\"] - model.predict(Scaled_Xval)).map(lambda x: x**2).sum()\n",
    "            kf_error += sse\n",
    "        cv_results_lasso.loc[len(cv_results_lasso)] = [lda, kf_error]\n",
    "    cv_results_lasso.to_csv(savpath_2, index=False)\n",
    "    time_elapsed = datetime.now() - start_time\n",
    "cv_results_lasso.sort_values([\"Sum of SSEs\", \"Lambda\"]).head()"
   ]
  },
  {
   "cell_type": "markdown",
   "metadata": {},
   "source": [
    "#### Plots and Inferences"
   ]
  },
  {
   "cell_type": "markdown",
   "metadata": {},
   "source": [
    "1. Time required for the optimization considering k in intervals of 5"
   ]
  },
  {
   "cell_type": "code",
   "execution_count": 21,
   "metadata": {},
   "outputs": [
    {
     "name": "stdout",
     "output_type": "stream",
     "text": [
      "Time elapsed (hh:mm:ss.ms) 0:00:06.825173\n"
     ]
    }
   ],
   "source": [
    "if type(time_elapsed) != type(None):\n",
    "    print('Time elapsed (hh:mm:ss.ms) {}'.format(time_elapsed))"
   ]
  },
  {
   "cell_type": "markdown",
   "metadata": {},
   "source": [
    "2. How the Sum of Squared Errors (summed over all 10-folds) vary with respect to the $\\lambda$ (penalizing term) in the Lasso regression"
   ]
  },
  {
   "cell_type": "code",
   "execution_count": 22,
   "metadata": {},
   "outputs": [
    {
     "data": {
      "image/png": "[encoded data removed]",
      "text/plain": [
       "<Figure size 432x288 with 1 Axes>"
      ]
     },
     "metadata": {
      "needs_background": "light"
     },
     "output_type": "display_data"
    }
   ],
   "source": [
    "cv_results_lasso.plot(kind='line', x='Lambda', y='Sum of SSEs', marker=\"o\", color=\"#16C172\")\n",
    "plt.ylabel(\"Sum of SSE from 10-fold CV\")\n",
    "plt.xlabel(\"Number of variables\")\n",
    "plt.legend('',frameon=False)\n",
    "plt.xscale(\"log\")\n",
    "plt.savefig(\"cv_results_lasso.png\", bbox_inches='tight')\n",
    "plt.show()"
   ]
  },
  {
   "cell_type": "markdown",
   "metadata": {},
   "source": [
    "3. Best $\\lambda$, a model that fits the whole training data with this $\\lambda$, and the corresponding number of variables"
   ]
  },
  {
   "cell_type": "code",
   "execution_count": 23,
   "metadata": {},
   "outputs": [
    {
     "data": {
      "text/plain": [
       "0.005336699231206307"
      ]
     },
     "execution_count": 23,
     "metadata": {},
     "output_type": "execute_result"
    }
   ],
   "source": [
    "lda = cv_results_lasso.sort_values([\"Sum of SSEs\", \"Lambda\"]).iloc[0][\"Lambda\"]\n",
    "lda"
   ]
  },
  {
   "cell_type": "code",
   "execution_count": 24,
   "metadata": {},
   "outputs": [
    {
     "data": {
      "text/html": [
       "<style>#sk-container-id-1 {color: black;background-color: white;}#sk-container-id-1 pre{padding: 0;}#sk-container-id-1 div.sk-toggleable {background-color: white;}#sk-container-id-1 label.sk-toggleable__label {cursor: pointer;display: block;width: 100%;margin-bottom: 0;padding: 0.3em;box-sizing: border-box;text-align: center;}#sk-container-id-1 label.sk-toggleable__label-arrow:before {content: \"▸\";float: left;margin-right: 0.25em;color: #696969;}#sk-container-id-1 label.sk-toggleable__label-arrow:hover:before {color: black;}#sk-container-id-1 div.sk-estimator:hover label.sk-toggleable__label-arrow:before {color: black;}#sk-container-id-1 div.sk-toggleable__content {max-height: 0;max-width: 0;overflow: hidden;text-align: left;background-color: #f0f8ff;}#sk-container-id-1 div.sk-toggleable__content pre {margin: 0.2em;color: black;border-radius: 0.25em;background-color: #f0f8ff;}#sk-container-id-1 input.sk-toggleable__control:checked~div.sk-toggleable__content {max-height: 200px;max-width: 100%;overflow: auto;}#sk-container-id-1 input.sk-toggleable__control:checked~label.sk-toggleable__label-arrow:before {content: \"▾\";}#sk-container-id-1 div.sk-estimator input.sk-toggleable__control:checked~label.sk-toggleable__label {background-color: #d4ebff;}#sk-container-id-1 div.sk-label input.sk-toggleable__control:checked~label.sk-toggleable__label {background-color: #d4ebff;}#sk-container-id-1 input.sk-hidden--visually {border: 0;clip: rect(1px 1px 1px 1px);clip: rect(1px, 1px, 1px, 1px);height: 1px;margin: -1px;overflow: hidden;padding: 0;position: absolute;width: 1px;}#sk-container-id-1 div.sk-estimator {font-family: monospace;background-color: #f0f8ff;border: 1px dotted black;border-radius: 0.25em;box-sizing: border-box;margin-bottom: 0.5em;}#sk-container-id-1 div.sk-estimator:hover {background-color: #d4ebff;}#sk-container-id-1 div.sk-parallel-item::after {content: \"\";width: 100%;border-bottom: 1px solid gray;flex-grow: 1;}#sk-container-id-1 div.sk-label:hover label.sk-toggleable__label {background-color: #d4ebff;}#sk-container-id-1 div.sk-serial::before {content: \"\";position: absolute;border-left: 1px solid gray;box-sizing: border-box;top: 0;bottom: 0;left: 50%;z-index: 0;}#sk-container-id-1 div.sk-serial {display: flex;flex-direction: column;align-items: center;background-color: white;padding-right: 0.2em;padding-left: 0.2em;position: relative;}#sk-container-id-1 div.sk-item {position: relative;z-index: 1;}#sk-container-id-1 div.sk-parallel {display: flex;align-items: stretch;justify-content: center;background-color: white;position: relative;}#sk-container-id-1 div.sk-item::before, #sk-container-id-1 div.sk-parallel-item::before {content: \"\";position: absolute;border-left: 1px solid gray;box-sizing: border-box;top: 0;bottom: 0;left: 50%;z-index: -1;}#sk-container-id-1 div.sk-parallel-item {display: flex;flex-direction: column;z-index: 1;position: relative;background-color: white;}#sk-container-id-1 div.sk-parallel-item:first-child::after {align-self: flex-end;width: 50%;}#sk-container-id-1 div.sk-parallel-item:last-child::after {align-self: flex-start;width: 50%;}#sk-container-id-1 div.sk-parallel-item:only-child::after {width: 0;}#sk-container-id-1 div.sk-dashed-wrapped {border: 1px dashed gray;margin: 0 0.4em 0.5em 0.4em;box-sizing: border-box;padding-bottom: 0.4em;background-color: white;}#sk-container-id-1 div.sk-label label {font-family: monospace;font-weight: bold;display: inline-block;line-height: 1.2em;}#sk-container-id-1 div.sk-label-container {text-align: center;}#sk-container-id-1 div.sk-container {/* jupyter's `normalize.less` sets `[hidden] { display: none; }` but bootstrap.min.css set `[hidden] { display: none !important; }` so we also need the `!important` here to be able to override the default hidden behavior on the sphinx rendered scikit-learn.org. See: https://github.com/scikit-learn/scikit-learn/issues/21755 */display: inline-block !important;position: relative;}#sk-container-id-1 div.sk-text-repr-fallback {display: none;}</style><div id=\"sk-container-id-1\" class=\"sk-top-container\"><div class=\"sk-text-repr-fallback\"><pre>Lasso(alpha=0.005336699231206307, normalize=True)</pre><b>In a Jupyter environment, please rerun this cell to show the HTML representation or trust the notebook. <br />On GitHub, the HTML representation is unable to render, please try loading this page with nbviewer.org.</b></div><div class=\"sk-container\" hidden><div class=\"sk-item\"><div class=\"sk-estimator sk-toggleable\"><input class=\"sk-toggleable__control sk-hidden--visually\" id=\"sk-estimator-id-1\" type=\"checkbox\" checked><label for=\"sk-estimator-id-1\" class=\"sk-toggleable__label sk-toggleable__label-arrow\">Lasso</label><div class=\"sk-toggleable__content\"><pre>Lasso(alpha=0.005336699231206307, normalize=True)</pre></div></div></div></div></div>"
      ],
      "text/plain": [
       "Lasso(alpha=0.005336699231206307, normalize=True)"
      ]
     },
     "execution_count": 24,
     "metadata": {},
     "output_type": "execute_result"
    }
   ],
   "source": [
    "model = Lasso(alpha=lda, normalize=True)\n",
    "model.fit(X_train.iloc[:,1:], y_train[\"y\"])"
   ]
  },
  {
   "cell_type": "code",
   "execution_count": 25,
   "metadata": {},
   "outputs": [],
   "source": [
    "comparison_df[\"Lasso\"] = [model.intercept_, *model.coef_]"
   ]
  },
  {
   "cell_type": "code",
   "execution_count": 26,
   "metadata": {},
   "outputs": [
    {
     "data": {
      "text/plain": [
       "18"
      ]
     },
     "execution_count": 26,
     "metadata": {},
     "output_type": "execute_result"
    }
   ],
   "source": [
    "p = (model.coef_ != 0).sum()\n",
    "p"
   ]
  },
  {
   "cell_type": "markdown",
   "metadata": {},
   "source": [
    "4. R<sup>2</sup> and Adjusted-R<sup>2</sup> for the best fit model"
   ]
  },
  {
   "cell_type": "code",
   "execution_count": 27,
   "metadata": {},
   "outputs": [
    {
     "name": "stdout",
     "output_type": "stream",
     "text": [
      "For the most optimal model from Lasso for variable selection\n",
      "R_squared: 0.87866\n",
      "Ajusted R_squared: 0.86921\n"
     ]
    }
   ],
   "source": [
    "y_train[\"y_pred_lasso\"] = model.predict(X_train.iloc[:,1:])\n",
    "y_train[\"residuals_lasso\"] = y_train[\"y\"] - y_train[\"y_pred_lasso\"]\n",
    "\n",
    "r_square = r2_score(y_train[\"y\"], y_train[\"y_pred_lasso\"])\n",
    "adj_r_square = 1-(1-r_square)*(n-1)/(n-p-1)\n",
    "\n",
    "print(\"For the most optimal model from Lasso for variable selection\")\n",
    "print(f\"R_squared: {r_square.round(5)}\")\n",
    "print(f\"Ajusted R_squared: {adj_r_square.round(5)}\")"
   ]
  },
  {
   "cell_type": "markdown",
   "metadata": {},
   "source": [
    "5. Scatter plots to see how well the training data fits the response"
   ]
  },
  {
   "cell_type": "code",
   "execution_count": 28,
   "metadata": {},
   "outputs": [
    {
     "data": {
      "image/png": "[encoded data removed]",
      "text/plain": [
       "<Figure size 1080x360 with 2 Axes>"
      ]
     },
     "metadata": {
      "needs_background": "light"
     },
     "output_type": "display_data"
    }
   ],
   "source": [
    "fig, axes = plt.subplots(nrows=1, ncols=2, figsize=(15,5))\n",
    "\n",
    "y_train.plot(kind=\"scatter\", x=\"y\", y=\"y_pred_lasso\", ax=axes[0], color=\"#16C172\")\n",
    "y_train.plot(kind=\"scatter\", x=\"y\", y=\"residuals_lasso\", ax=axes[1], color=\"#16C172\")\n",
    "plt.suptitle(\"Lasso - Train: Predicted values and residuals as compared to the true 'y' values\")\n",
    "plt.savefig(\"Lasso_scatter_training.png\", bbox_inches='tight')\n",
    "plt.show()"
   ]
  },
  {
   "cell_type": "markdown",
   "metadata": {},
   "source": [
    "6. Scatter plots to see how well the test data fits the response"
   ]
  },
  {
   "cell_type": "code",
   "execution_count": 29,
   "metadata": {},
   "outputs": [
    {
     "data": {
      "image/png": "[encoded data removed]",
      "text/plain": [
       "<Figure size 1080x360 with 2 Axes>"
      ]
     },
     "metadata": {
      "needs_background": "light"
     },
     "output_type": "display_data"
    }
   ],
   "source": [
    "fig, axes = plt.subplots(nrows=1, ncols=2, figsize=(15,5))\n",
    "\n",
    "y_test[\"y_pred_lasso\"] = model.predict(X_test.iloc[:,1:])\n",
    "y_test[\"residuals_lasso\"] = y_test[\"y\"] - y_test[\"y_pred_lasso\"]\n",
    "y_test.plot(kind=\"scatter\", x=\"y\", y=\"y_pred_lasso\", ax=axes[0], color=\"#16C172\")\n",
    "y_test.plot(kind=\"scatter\", x=\"y\", y=\"residuals_lasso\", ax=axes[1], color=\"#16C172\")\n",
    "plt.suptitle(\"Lasso - Test: Predicted values and residuals as compared to the true 'y' values\")\n",
    "plt.savefig(\"Lasso_scatter_test.png\", bbox_inches='tight')\n",
    "plt.show()"
   ]
  },
  {
   "cell_type": "markdown",
   "metadata": {},
   "source": [
    "7. Test MSE of the model"
   ]
  },
  {
   "cell_type": "code",
   "execution_count": 30,
   "metadata": {},
   "outputs": [
    {
     "name": "stdout",
     "output_type": "stream",
     "text": [
      "Test MSE for the best Lasso Model:  117.83\n"
     ]
    }
   ],
   "source": [
    "print(\"Test MSE for the best Lasso Model: \", (y_test[\"residuals_lasso\"]*y_test[\"residuals_lasso\"]).sum().round(2))"
   ]
  },
  {
   "cell_type": "markdown",
   "metadata": {},
   "source": [
    "### Comparison"
   ]
  },
  {
   "cell_type": "code",
   "execution_count": 31,
   "metadata": {},
   "outputs": [
    {
     "data": {
      "image/png": "[encoded data removed]",
      "text/plain": [
       "<Figure size 1080x1080 with 1 Axes>"
      ]
     },
     "metadata": {
      "needs_background": "light"
     },
     "output_type": "display_data"
    }
   ],
   "source": [
    "comparison_df = comparison_df[(comparison_df != 0)[\"MIQP\"] | (comparison_df != 0)[\"Lasso\"]]\n",
    "comparison_df.plot.barh(figsize=(15,15), color=[\"#214F4B\", \"#16C172\"])\n",
    "plt.title(\"Comparison of the magnitudes of betas from MIQP and Lasso\")\n",
    "plt.ylabel(\"Beta (Index)\")\n",
    "plt.xlabel(\"Magnitude of the slope/intercept\")\n",
    "plt.savefig(\"comparison.png\", bbox_inches='tight')\n",
    "plt.show()"
   ]
  }
 ],
 "metadata": {
  "kernelspec": {
   "display_name": "Python 3 (ipykernel)",
   "language": "python",
   "name": "python3"
  },
  "language_info": {
   "codemirror_mode": {
    "name": "ipython",
    "version": 3
   },
   "file_extension": ".py",
   "mimetype": "text/x-python",
   "name": "python",
   "nbconvert_exporter": "python",
   "pygments_lexer": "ipython3",
   "version": "3.10.5"
  },
  "vscode": {
   "interpreter": {
    "hash": "26de051ba29f2982a8de78e945f0abaf191376122a1563185a90213a26c5da77"
   }
  }
 },
 "nbformat": 4,
 "nbformat_minor": 4
}
